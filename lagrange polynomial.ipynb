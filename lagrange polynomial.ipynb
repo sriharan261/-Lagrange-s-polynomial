{
 "cells": [
  {
   "cell_type": "code",
   "execution_count": 151,
   "metadata": {},
   "outputs": [],
   "source": [
    "import random\n",
    "import numpy as np \n",
    "import matplotlib.pyplot as plt"
   ]
  },
  {
   "cell_type": "markdown",
   "metadata": {},
   "source": [
    "## Getting input of the points"
   ]
  },
  {
   "cell_type": "code",
   "execution_count": 152,
   "metadata": {},
   "outputs": [
    {
     "name": "stdout",
     "output_type": "stream",
     "text": [
      "[-68, -65, -53, -35, -27, -6, 19, 23, 85, 86] [4899, 4488, 3024, 1368, 840, 63, 288, 440, 6888, 7055]\n"
     ]
    }
   ],
   "source": [
    "n=10\n",
    "x=[]\n",
    "y=[]\n",
    "for i in range(n):\n",
    "    x.append(random.randint(-100, 100))\n",
    "x=sorted(x)\n",
    "#Now we use this random number to genrate F(x) for polynomial of form x^2-4x+3\n",
    "for i in range(len(x)):\n",
    "    X=x[i]\n",
    "    y.append((X**2-(4*X)+3))\n",
    "print(x,y)\n"
   ]
  },
  {
   "cell_type": "markdown",
   "metadata": {},
   "source": [
    "## Function for Lagrange Polynomial"
   ]
  },
  {
   "cell_type": "code",
   "execution_count": 186,
   "metadata": {},
   "outputs": [],
   "source": [
    "def lagpoly(x,y,a):\n",
    "    f=0\n",
    "    for i in range(len(x)):\n",
    "        sop=1\n",
    "        for j in range(len(x)):\n",
    "            if x[i]!=x[j]:\n",
    "                sop=sop*(a-x[j])/(x[i]-x[j])\n",
    "        f=f+y[i]*sop\n",
    "    return(f)    \n",
    "    "
   ]
  },
  {
   "cell_type": "code",
   "execution_count": 187,
   "metadata": {},
   "outputs": [],
   "source": [
    "xAxis=np.arange(-35, +35)\n",
    "yAxis=[]\n",
    "for i in (xAxis):\n",
    "        yAxis.append(lagpoly(x,y,xAxis[i]))"
   ]
  },
  {
   "cell_type": "code",
   "execution_count": 188,
   "metadata": {},
   "outputs": [
    {
     "data": {
      "image/png": "[encoded data removed]",
      "text/plain": [
       "<Figure size 432x288 with 1 Axes>"
      ]
     },
     "metadata": {
      "needs_background": "light"
     },
     "output_type": "display_data"
    }
   ],
   "source": [
    "plt.plot(xAxis ,yAxis)\n",
    "plt.show()\n"
   ]
  }
 ],
 "metadata": {
  "kernelspec": {
   "display_name": "Python 3",
   "language": "python",
   "name": "python3"
  },
  "language_info": {
   "codemirror_mode": {
    "name": "ipython",
    "version": 3
   },
   "file_extension": ".py",
   "mimetype": "text/x-python",
   "name": "python",
   "nbconvert_exporter": "python",
   "pygments_lexer": "ipython3",
   "version": "3.8.5"
  }
 },
 "nbformat": 4,
 "nbformat_minor": 4
}
